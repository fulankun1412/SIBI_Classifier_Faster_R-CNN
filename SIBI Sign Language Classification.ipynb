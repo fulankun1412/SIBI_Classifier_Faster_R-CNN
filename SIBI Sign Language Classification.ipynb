{
 "cells": [
  {
   "cell_type": "markdown",
   "metadata": {},
   "source": [
    "# First time using this program in this computer? Perform these steps below.\n",
    "## To Install the prerequisite"
   ]
  },
  {
   "cell_type": "code",
   "execution_count": null,
   "metadata": {},
   "outputs": [],
   "source": [
    "%cd models/research\n",
    "!protoc object_detection/protos/*.proto --python_out=.\n",
    "!cp object_detection/packages/tf2/setup.py .\n",
    "!python -m pip install ."
   ]
  },
  {
   "cell_type": "markdown",
   "metadata": {},
   "source": [
    "# Run These Code if you already perform the prerequisites before"
   ]
  },
  {
   "cell_type": "code",
   "execution_count": null,
   "metadata": {},
   "outputs": [],
   "source": [
    "import os\n",
    "import urllib\n",
    "import tarfile\n",
    "import tensorflow as tf\n",
    "from models.research.object_detection.utils import label_map_util\n",
    "from models.research.object_detection.utils import visualization_utils as vis_util\n",
    "import cv2\n",
    "import numpy as np\n",
    "import imageio\n",
    "\n",
    "MODEL_NAME = \"SIBI-classifier\"\n",
    "\n",
    "#Path ke file model yang sudah dibuat.\n",
    "PATH_TO_FROZEN_GRAPH = os.path.join(MODEL_NAME, 'grayscale800.30000_90.10_0.0005_batch.16_frozen_inference_graph.pb')\n",
    "#Daftar string yang digunakan untuk menambahkan label yang benar untuk setiap kotak.\n",
    "PATH_TO_LABELS = os.path.join(MODEL_NAME, 'grayscale800.30000_90.10_0.0005_batch.16_sign-language_label_map.pbtxt')\n",
    "\n",
    "detection_graph = tf.Graph()\n",
    "with detection_graph.as_default():\n",
    "    od_graph_def = tf.compat.v1.GraphDef()\n",
    "    with tf.compat.v2.io.gfile.GFile(PATH_TO_FROZEN_GRAPH, 'rb') as fid:\n",
    "        serialized_graph = fid.read()\n",
    "        od_graph_def.ParseFromString(serialized_graph)\n",
    "        tf.import_graph_def(od_graph_def, name='')\n",
    "category_index = label_map_util.create_category_index_from_labelmap(PATH_TO_LABELS, use_display_name=True)\n",
    "\n",
    "# Using URLLIB to initialize from smartphone camera \n",
    "url='http://192.168.137.145:8080/shot.jpg'\n",
    "\n",
    "# Using OpenCV to initialize the webcam\n",
    "#vs = cv2.VideoCapture(0)\n",
    "\n",
    "# adjust fps according to your needs if saved video too slow or fast\n",
    "writer = imageio.get_writer('output_smartphone.mp4', fps=1)\n",
    "with detection_graph.as_default():\n",
    "    config = tf.compat.v1.ConfigProto(log_device_placement=True)\n",
    "    config.gpu_options.allow_growth = False\n",
    "    with tf.compat.v1.Session(graph=detection_graph, config=config) as sess:\n",
    "        image_tensor = detection_graph.get_tensor_by_name('image_tensor:0')\n",
    "        detection_boxes = detection_graph.get_tensor_by_name('detection_boxes:0')\n",
    "        detection_scores = detection_graph.get_tensor_by_name('detection_scores:0')\n",
    "        detection_classes = detection_graph.get_tensor_by_name('detection_classes:0')\n",
    "        num_detections = detection_graph.get_tensor_by_name('num_detections:0')\n",
    "        while True:\n",
    "            imgResp=urllib.request.urlopen(url)\n",
    "            imgNp=np.array(bytearray(imgResp.read()),dtype=np.uint8)\n",
    "            img=cv2.imdecode(imgNp,-1)\n",
    "            image_np=img\n",
    "            \n",
    "            #ret, image_np = vs.read()\n",
    "            \n",
    "            dimension = (800,600)\n",
    "            image_np = cv2.resize(image_np, dimension)\n",
    "            #image_np = cv2.cvtColor(np.float32(image_np), cv2.COLOR_RGB2GRAY)\n",
    "            image_np_expanded = np.expand_dims(image_np, axis=0)\n",
    "            (boxes, scores, classes, num) = sess.run(\n",
    "                [detection_boxes, detection_scores, detection_classes, num_detections],\n",
    "                feed_dict={image_tensor: image_np_expanded})\n",
    "            vis_util.visualize_boxes_and_labels_on_image_array(\n",
    "                image_np,\n",
    "                np.squeeze(boxes),\n",
    "                np.squeeze(classes).astype(np.int32),\n",
    "                np.squeeze(scores),\n",
    "                category_index,\n",
    "                use_normalized_coordinates=True,\n",
    "                line_thickness=10, max_boxes_to_draw=1)\n",
    "            \n",
    "            writer.append_data(image_np)\n",
    "            cv2.imshow('Sign Language', image_np)\n",
    "            if cv2.waitKey(1) & 0xFF == ord('q'): #13 is the Enter Key\n",
    "                break\n",
    "            \n",
    "# Release camera and close windows\n",
    "writer.close()\n",
    "#vs.release()\n",
    "cv2.destroyAllWindows()"
   ]
  }
 ],
 "metadata": {
  "kernelspec": {
   "display_name": "Python 3",
   "language": "python",
   "name": "python3"
  },
  "language_info": {
   "codemirror_mode": {
    "name": "ipython",
    "version": 3
   },
   "file_extension": ".py",
   "mimetype": "text/x-python",
   "name": "python",
   "nbconvert_exporter": "python",
   "pygments_lexer": "ipython3",
   "version": "3.8.6"
  }
 },
 "nbformat": 4,
 "nbformat_minor": 4
}
